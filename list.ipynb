{
  "nbformat": 4,
  "nbformat_minor": 0,
  "metadata": {
    "colab": {
      "name": "list",
      "provenance": [],
      "authorship_tag": "ABX9TyO7zZPrwZmXhnKKbKq6KJB9",
      "include_colab_link": true
    },
    "kernelspec": {
      "name": "python3",
      "display_name": "Python 3"
    },
    "language_info": {
      "name": "python"
    }
  },
  "cells": [
    {
      "cell_type": "markdown",
      "metadata": {
        "id": "view-in-github",
        "colab_type": "text"
      },
      "source": [
        "<a href=\"https://colab.research.google.com/github/SHAMBLE5/Python_Full-Stack_Development-/blob/main/list.ipynb\" target=\"_parent\"><img src=\"https://colab.research.google.com/assets/colab-badge.svg\" alt=\"Open In Colab\"/></a>"
      ]
    },
    {
      "cell_type": "code",
      "execution_count": 1,
      "metadata": {
        "colab": {
          "base_uri": "https://localhost:8080/"
        },
        "id": "sXumUF-OobnA",
        "outputId": "809b4dfb-cf0b-49d1-9c02-1f036271cdfa"
      },
      "outputs": [
        {
          "output_type": "stream",
          "name": "stdout",
          "text": [
            "['apple', 'banana', 'cherry']\n"
          ]
        }
      ],
      "source": [
        "list=['apple','banana','cherry']\n",
        "print(list)"
      ]
    },
    {
      "cell_type": "code",
      "source": [
        "list=['apple','banana','cherry','cherry','apple']\n",
        "print(list)"
      ],
      "metadata": {
        "colab": {
          "base_uri": "https://localhost:8080/"
        },
        "id": "bT4r4SUdpFK_",
        "outputId": "614c773f-8712-43b2-fab9-f02f00d14180"
      },
      "execution_count": 2,
      "outputs": [
        {
          "output_type": "stream",
          "name": "stdout",
          "text": [
            "['apple', 'banana', 'cherry', 'cherry', 'apple']\n"
          ]
        }
      ]
    },
    {
      "cell_type": "code",
      "source": [
        "list1=[1,2,3,4]\n",
        "print(list1)#list of integers\n",
        "list1=[]\n",
        "print(list1)#empty\n",
        "list1=[1,'Hello',6.9]\n",
        "print(list1)#mixed\n",
        "list1=['house',[1,2,3],list]\n",
        "print(list1)#mixed"
      ],
      "metadata": {
        "colab": {
          "base_uri": "https://localhost:8080/"
        },
        "id": "I-OsfDbFpK5f",
        "outputId": "4b0c521e-8916-418b-9080-a820917416be"
      },
      "execution_count": 4,
      "outputs": [
        {
          "output_type": "stream",
          "name": "stdout",
          "text": [
            "[1, 2, 3, 4]\n",
            "[]\n",
            "[1, 'Hello', 6.9]\n",
            "['house', [1, 2, 3], ['apple', 'banana', 'cherry', 'cherry', 'apple']]\n"
          ]
        }
      ]
    },
    {
      "cell_type": "code",
      "source": [
        "print(list[0])\n",
        "print(list[1])\n",
        "print(list[2])\n",
        "\n",
        "print(list1[1][0])\n",
        "print(list1[0][2])"
      ],
      "metadata": {
        "colab": {
          "base_uri": "https://localhost:8080/"
        },
        "id": "YD2adg8Ep7n9",
        "outputId": "17e04bbb-8871-4bc7-f765-f2d84105f07f"
      },
      "execution_count": 6,
      "outputs": [
        {
          "output_type": "stream",
          "name": "stdout",
          "text": [
            "apple\n",
            "banana\n",
            "cherry\n",
            "1\n",
            "u\n"
          ]
        }
      ]
    },
    {
      "cell_type": "code",
      "source": [
        "print(list[-1])\n",
        "print(list[-2])\n",
        "print(list[-5])"
      ],
      "metadata": {
        "colab": {
          "base_uri": "https://localhost:8080/"
        },
        "id": "khnuyCaIq2wC",
        "outputId": "b6e092cf-71f9-4387-8e1d-e7db4b93ddf8"
      },
      "execution_count": 7,
      "outputs": [
        {
          "output_type": "stream",
          "name": "stdout",
          "text": [
            "apple\n",
            "cherry\n",
            "apple\n"
          ]
        }
      ]
    },
    {
      "cell_type": "code",
      "source": [
        "#list=['apple','banana','cherry','cherry','apple']\n",
        "print(list[1:3])\n",
        "print(list[3:])\n",
        "print(list[:])"
      ],
      "metadata": {
        "colab": {
          "base_uri": "https://localhost:8080/"
        },
        "id": "I9PHm_aerFYQ",
        "outputId": "2e29bcbf-4887-4313-83e4-6bc9bea815b2"
      },
      "execution_count": 12,
      "outputs": [
        {
          "output_type": "stream",
          "name": "stdout",
          "text": [
            "['banana', 'cherry']\n",
            "['cherry', 'apple']\n",
            "['apple', 'banana', 'cherry', 'cherry', 'apple']\n"
          ]
        }
      ]
    },
    {
      "cell_type": "code",
      "source": [
        "num=[1,5,7,9]\n",
        "print(num)\n",
        "num.append(10)\n",
        "print(num)\n",
        "num.extend([11,13])\n",
        "print(num)\n",
        "print('pa'*2)\n",
        "num.insert(1,3)\n",
        "print(num)\n",
        "del num[2]\n",
        "print(num)\n",
        "del num[4:7]\n",
        "print(num)\n",
        "print(num.pop());\n",
        "print(num.clear());"
      ],
      "metadata": {
        "colab": {
          "base_uri": "https://localhost:8080/"
        },
        "id": "y1IaeNVGzEhX",
        "outputId": "4e49f12d-0b09-47f0-efaa-04186da605f0"
      },
      "execution_count": 21,
      "outputs": [
        {
          "output_type": "stream",
          "name": "stdout",
          "text": [
            "[1, 5, 7, 9]\n",
            "[1, 5, 7, 9, 10]\n",
            "[1, 5, 7, 9, 10, 11, 13]\n",
            "papa\n",
            "[1, 3, 5, 7, 9, 10, 11, 13]\n",
            "[1, 3, 7, 9, 10, 11, 13]\n",
            "[1, 3, 7, 9]\n",
            "9\n",
            "None\n"
          ]
        }
      ]
    },
    {
      "cell_type": "code",
      "source": [
        "xyz=[1,2,2,3,2]\n",
        "print(xyz.index(1))\n",
        "print(xyz.count(2))"
      ],
      "metadata": {
        "colab": {
          "base_uri": "https://localhost:8080/"
        },
        "id": "eR9p6QhEzRkV",
        "outputId": "c7f6cc8a-c8df-45f7-adea-1f3bca48e9dd"
      },
      "execution_count": 24,
      "outputs": [
        {
          "output_type": "stream",
          "name": "stdout",
          "text": [
            "0\n",
            "3\n"
          ]
        }
      ]
    }
  ]
}